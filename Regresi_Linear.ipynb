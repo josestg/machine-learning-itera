{
 "cells": [
  {
   "cell_type": "markdown",
   "metadata": {
    "colab_type": "text",
    "id": "view-in-github"
   },
   "source": [
    "<a href=\"https://colab.research.google.com/github/josestg/machine-learning-itera/blob/master/Regresi_Linear.ipynb\" target=\"_parent\"><img src=\"https://colab.research.google.com/assets/colab-badge.svg\" alt=\"Open In Colab\"/></a>"
   ]
  },
  {
   "cell_type": "markdown",
   "metadata": {
    "colab_type": "text",
    "id": "Q87a32Er7VcV"
   },
   "source": [
    "<center><h1>Regresi Linear</h1></center>\n",
    "\n",
    "## Soal\n",
    "\n",
    "Diketahui data pendapatan rata-rata dan penjualan pizza total selama 1 bulan di delapan buah kota adalah sebagai berikut.\n",
    "\n",
    "Kota | Pendapatan rata-rata (1000$) | Penjualan pizza (1000 buah)\n",
    "--- | --- | ---\n",
    "1 | 5 | 27\n",
    "2 | 10 | 46\n",
    "3 | 20 | 73\n",
    "4 | 8 | 40\n",
    "5 | 4 | 30\n",
    "6 | 6 | 28\n",
    "7 | 12 | 46\n",
    "8 | 15 | 59\n",
    "\n",
    "1. Buat scatter plot.\n",
    "2. Apakah kedua variabel ada korelasi?\n",
    "3. Hitung dengan menggunakan LSE:\n",
    "  - Slope\n",
    "  - Intercept\n",
    "  - R2"
   ]
  },
  {
   "cell_type": "markdown",
   "metadata": {
    "colab_type": "text",
    "id": "7MRNRfoy-UFo"
   },
   "source": [
    "## Pembahasan\n",
    "\n",
    "Dari soal diatas dapat dilihat bahwa ada dua variable yang terlibat, yaitu **Pendapatan rata-rata** dan **Penjualan pizza**, secara intuisi nilai **pendapatan** bergantung pada nilai **penjualan**. Oleh karena itu boleh difenisikan:\n",
    "\n",
    "> $X$ : Penjualan pizza (1000 buah), dan \n",
    "\n",
    "> $Y$ : Pendapatan rata-rata (1000$)\n",
    "\n",
    "dengan $X$ adalah variabel bebas dan $Y$ dependen variabel.\n",
    "\n",
    "Sehingga persamaan linearnya dapat ditulis sebagai berikut:\n",
    "\n",
    ">$ y(x) = b_0 + b_1x $  atau  $h_{\\theta}(x) = \\theta_{0}x_0 + \\theta_{1}x_1 ;\\ \\ x_0 = 1$"
   ]
  },
  {
   "cell_type": "code",
   "execution_count": 1,
   "metadata": {
    "colab": {
     "base_uri": "https://localhost:8080/",
     "height": 297
    },
    "colab_type": "code",
    "id": "3ldh9Go37TV4",
    "outputId": "e5a614eb-5cdd-4c4d-ffd6-85c52d27ff99"
   },
   "outputs": [
    {
     "data": {
      "text/html": [
       "<div>\n",
       "<style scoped>\n",
       "    .dataframe tbody tr th:only-of-type {\n",
       "        vertical-align: middle;\n",
       "    }\n",
       "\n",
       "    .dataframe tbody tr th {\n",
       "        vertical-align: top;\n",
       "    }\n",
       "\n",
       "    .dataframe thead th {\n",
       "        text-align: right;\n",
       "    }\n",
       "</style>\n",
       "<table border=\"1\" class=\"dataframe\">\n",
       "  <thead>\n",
       "    <tr style=\"text-align: right;\">\n",
       "      <th></th>\n",
       "      <th>Kota</th>\n",
       "      <th>Pendapatan rata-rata (1000$)</th>\n",
       "      <th>Penjualan Pizza (1000 buah)</th>\n",
       "    </tr>\n",
       "  </thead>\n",
       "  <tbody>\n",
       "    <tr>\n",
       "      <td>0</td>\n",
       "      <td>1</td>\n",
       "      <td>5</td>\n",
       "      <td>27</td>\n",
       "    </tr>\n",
       "    <tr>\n",
       "      <td>1</td>\n",
       "      <td>2</td>\n",
       "      <td>10</td>\n",
       "      <td>46</td>\n",
       "    </tr>\n",
       "    <tr>\n",
       "      <td>2</td>\n",
       "      <td>3</td>\n",
       "      <td>20</td>\n",
       "      <td>73</td>\n",
       "    </tr>\n",
       "    <tr>\n",
       "      <td>3</td>\n",
       "      <td>4</td>\n",
       "      <td>8</td>\n",
       "      <td>40</td>\n",
       "    </tr>\n",
       "    <tr>\n",
       "      <td>4</td>\n",
       "      <td>5</td>\n",
       "      <td>4</td>\n",
       "      <td>30</td>\n",
       "    </tr>\n",
       "    <tr>\n",
       "      <td>5</td>\n",
       "      <td>6</td>\n",
       "      <td>6</td>\n",
       "      <td>28</td>\n",
       "    </tr>\n",
       "    <tr>\n",
       "      <td>6</td>\n",
       "      <td>7</td>\n",
       "      <td>12</td>\n",
       "      <td>46</td>\n",
       "    </tr>\n",
       "    <tr>\n",
       "      <td>7</td>\n",
       "      <td>8</td>\n",
       "      <td>15</td>\n",
       "      <td>59</td>\n",
       "    </tr>\n",
       "  </tbody>\n",
       "</table>\n",
       "</div>"
      ],
      "text/plain": [
       "   Kota  Pendapatan rata-rata (1000$)  Penjualan Pizza (1000 buah)\n",
       "0     1                             5                           27\n",
       "1     2                            10                           46\n",
       "2     3                            20                           73\n",
       "3     4                             8                           40\n",
       "4     5                             4                           30\n",
       "5     6                             6                           28\n",
       "6     7                            12                           46\n",
       "7     8                            15                           59"
      ]
     },
     "execution_count": 1,
     "metadata": {},
     "output_type": "execute_result"
    }
   ],
   "source": [
    "# Meyiapkan data\n",
    "import pandas as pd\n",
    "\n",
    "data = pd.DataFrame([\n",
    "    [1, 5, 27],\n",
    "    [2, 10, 46],\n",
    "    [3, 20, 73],\n",
    "    [4, 8, 40],\n",
    "    [5, 4, 30],\n",
    "    [6, 6, 28],\n",
    "    [7, 12, 46],\n",
    "    [8, 15, 59]\n",
    "], \n",
    "    columns=[\"Kota\",\n",
    "             \"Pendapatan rata-rata (1000$)\", \n",
    "             \"Penjualan Pizza (1000 buah)\"]\n",
    ")\n",
    "\n",
    "data"
   ]
  },
  {
   "cell_type": "markdown",
   "metadata": {
    "colab_type": "text",
    "id": "bH1s1XYGCKRe"
   },
   "source": [
    "### Scatter Plot\n",
    "\n",
    "Memetakan setiap pasangan titik $(x_i, y_i)$ dengan $x_i \\in X$ dan $y_i \\in Y$ kedadalam koordinat Cartesian.\n"
   ]
  },
  {
   "cell_type": "code",
   "execution_count": 2,
   "metadata": {
    "colab": {},
    "colab_type": "code",
    "id": "AQQdErZ3DkaZ"
   },
   "outputs": [],
   "source": [
    "pendapatan = data[\"Pendapatan rata-rata (1000$)\"] \n",
    "penjualan =  data[\"Penjualan Pizza (1000 buah)\"]"
   ]
  },
  {
   "cell_type": "code",
   "execution_count": 3,
   "metadata": {
    "colab": {
     "base_uri": "https://localhost:8080/",
     "height": 283
    },
    "colab_type": "code",
    "id": "53AunZfQD0Jv",
    "outputId": "e2130594-2ada-4b7d-d027-d3bd5f2d1df6"
   },
   "outputs": [
    {
     "data": {
      "text/plain": [
       "<Figure size 640x480 with 1 Axes>"
      ]
     },
     "metadata": {},
     "output_type": "display_data"
    }
   ],
   "source": [
    "import matplotlib.pyplot as plt\n",
    "plt.scatter(penjualan, pendapatan)\n",
    "plt.xlabel(\"Penjualan Pizza (1000 buah)\")\n",
    "plt.ylabel(\"Pendapatan rata-rata (1000$)\")\n",
    "plt.show()"
   ]
  },
  {
   "cell_type": "markdown",
   "metadata": {
    "colab_type": "text",
    "id": "yEEjQBFZEpSO"
   },
   "source": [
    "### Apakah kedua variabel ada korelasi?\n",
    "\n",
    "Dengan melihat *Scatter Plot* boleh dikatakan bahwa $X$ dan $Y$ **berkorelasi positif**.\n",
    "\n",
    "\n",
    "#### Pearson's Correlation Coefficient\n",
    "Karena pada soal merupakan data sampel maka digunakan *Pearson's correlation coefficient* ($r_{xy}$).\n",
    "\n",
    "#  $r_{xy} = \\frac{\\sum{_{i=1}^{n}}{x_iy_i} - n\\bar{x}\\bar{y}}{(n-1)s_xs_y}$\n",
    "\n",
    "\n",
    "\n",
    "dengan:\n",
    "\n",
    "### $s_x = \\sqrt{\\frac{1}{n-1}\\sum{_{i=1}^{n}}{(x_i-\\bar{x})^2}}$ \n",
    "\n",
    "$s_x$ merupakan standar deviasi sampel.\n",
    "\n",
    "sumber : https://en.wikipedia.org/wiki/Pearson_correlation_coefficient\n",
    "\n",
    "\n"
   ]
  },
  {
   "cell_type": "code",
   "execution_count": 4,
   "metadata": {
    "colab": {},
    "colab_type": "code",
    "id": "dPHIvKEgI4h5"
   },
   "outputs": [],
   "source": [
    "def get_correlation(x,y):\n",
    "  n = len(x)\n",
    "  sum_xy = sum(x * y)\n",
    "  nxybar = n * x.mean() * y.mean()\n",
    "  divisor = (n - 1) * x.std() * y.std()\n",
    "  r = (sum_xy - nxybar) / divisor\n",
    "  \n",
    "  return r"
   ]
  },
  {
   "cell_type": "code",
   "execution_count": 5,
   "metadata": {
    "colab": {
     "base_uri": "https://localhost:8080/",
     "height": 34
    },
    "colab_type": "code",
    "id": "WhGbadR-KuFj",
    "outputId": "3ed96504-cc4d-47b3-ff02-27f3539b02af"
   },
   "outputs": [
    {
     "name": "stdout",
     "output_type": "stream",
     "text": [
      "Korelasi Penjualan dengan pendapatan 0.9840325758520436\n"
     ]
    }
   ],
   "source": [
    "r = get_correlation(penjualan, pendapatan)\n",
    "print(\"Korelasi Penjualan dengan pendapatan\", r)"
   ]
  },
  {
   "cell_type": "markdown",
   "metadata": {
    "colab_type": "text",
    "id": "pDTHhTMPLRy2"
   },
   "source": [
    "Ternyata benar bahawa penjualan dan pendapatan **berkorelasi positif** (seperti yang terlihat dari *Scatter plot*). Artinya nilai penjualan berbanding lurus dengan pendapatan."
   ]
  },
  {
   "cell_type": "markdown",
   "metadata": {
    "colab_type": "text",
    "id": "jmM6KIw8MCnR"
   },
   "source": [
    "### Menentukan Parameter dengan Menggunakan Metode Least Square Estimators (LSE)\n",
    "\n",
    "Diketahui bahwa hipotesis seperti berikut.\n",
    "\n",
    "> $y(x) = h_{\\theta}(x) = \\theta_{0}x_0 + \\theta_1x_1; \\ x_0=1$\n",
    "\n",
    "Nilai $\\theta_0$ dan $\\theta_1$ diperoleh dengan mencari turunan parsial dari *SSE* yang bernilai nol terhadap $\\theta_0$ dan $\\theta_1$.\n",
    "\n",
    "> ### $ SSE = \\sum{_{i=1}^{n}}{error_i^2} = \\sum{_{i=1}^{n}}{(y_{i}-\\hat{y_i})^2} = \\sum{_{i=1}^{n}}{(y_i - \\theta_0x_0 - \\theta_1x_i)^2}$\n",
    "\n",
    "> ### $\\frac{\\partial(SSE)}{\\partial\\theta_0} = -2 \\sum{_{i=1}^{n}}{(y_i-\\theta_0-\\theta_1x_i)}$\n",
    "\n",
    "> ###  $ 0 = -2 \\sum{_{i=1}^{n}}{(y_i-\\theta_0-\\theta_1x_i)}$\n",
    "\n",
    ">  ### $ n\\theta_0 + \\theta_1\\sum{_{i=1}^{n}}{x_i} = \\sum{_{i=1}^{n}}{y_i}$\n",
    "\n",
    "> ### $ \\theta_0 = \\frac{\\sum{_{i=1}^{n}}{y_i} -  \\theta_1\\sum{_{i=1}^{n}}{x_i}}{n}$\n",
    "\n",
    "> ### $\\theta_0 = \\bar{y} - \\theta_1\\bar{x}$\n",
    "\n",
    "Dengan menggunakan metode yang sama maka diperoleh:\n",
    "\n",
    "\n",
    "> ### $ \\theta_1 = \\frac{\\sum{_{i=1}^{n}}{(x_i-\\bar{x})(y_i-\\bar{y})}}{\\sum{_{i=1}^{n}}{(x_i-\\bar{x})^2}} = \\frac{\\sum{_{i=1}^{n}}{x_iy_i}- n\\bar{x}\\bar{y}}{\\sum{_{i=1}^{n}}{(x_i-\\bar{x})^2}}$\n",
    "\n",
    "\n"
   ]
  },
  {
   "cell_type": "markdown",
   "metadata": {
    "colab_type": "text",
    "id": "0MHHZ8WWWmTm"
   },
   "source": [
    "### Menentukan Gradien ($\\theta_1$)"
   ]
  },
  {
   "cell_type": "code",
   "execution_count": 6,
   "metadata": {
    "colab": {
     "base_uri": "https://localhost:8080/",
     "height": 34
    },
    "colab_type": "code",
    "id": "ejb-MXtaTfEP",
    "outputId": "7a47de73-7c6e-4157-f625-356857007873"
   },
   "outputs": [
    {
     "name": "stdout",
     "output_type": "stream",
     "text": [
      "gradient dengan LSE 0.33335610355898626\n"
     ]
    }
   ],
   "source": [
    "n = len(penjualan)\n",
    "sumxy = sum(penjualan * pendapatan)\n",
    "nxybar = n * penjualan.mean() * pendapatan.mean()\n",
    "divisor = sum((penjualan - penjualan.mean())**2)\n",
    "\n",
    "theta_1 =  (sumxy - nxybar) / divisor\n",
    "print(\"gradient dengan LSE\", theta_1)"
   ]
  },
  {
   "cell_type": "markdown",
   "metadata": {
    "colab_type": "text",
    "id": "KWgGUMneW30n"
   },
   "source": [
    "### Menentukan Intercept ($\\theta_0$)\n",
    "\n"
   ]
  },
  {
   "cell_type": "code",
   "execution_count": 7,
   "metadata": {
    "colab": {
     "base_uri": "https://localhost:8080/",
     "height": 34
    },
    "colab_type": "code",
    "id": "2bXsfcR3X7MK",
    "outputId": "a17ebc74-73c3-4bf6-e063-533adfcd8836"
   },
   "outputs": [
    {
     "name": "stdout",
     "output_type": "stream",
     "text": [
      "Intercept dengan LSE -4.542660017760776\n"
     ]
    }
   ],
   "source": [
    "theta_0 = pendapatan.mean() - theta_1 * penjualan.mean()\n",
    "print(\"Intercept dengan LSE\", theta_0)"
   ]
  },
  {
   "cell_type": "markdown",
   "metadata": {
    "colab_type": "text",
    "id": "LgPT73I5YagU"
   },
   "source": [
    "### Model\n",
    "\n",
    "Dengan menggunakan $\\theta_1 = 0.33335610355898626$ dan $\\theta_0 = -4.542660017760776$. Maka diperoleh model sebagai berikut\n",
    "\n",
    "> $h_{\\theta}(x) = -4.542660017760776 + 0.33335610355898626x$"
   ]
  },
  {
   "cell_type": "code",
   "execution_count": 8,
   "metadata": {
    "colab": {},
    "colab_type": "code",
    "id": "KBIaMkA0ZMEt"
   },
   "outputs": [],
   "source": [
    "def regression(tehta_0, theta_1, x):\n",
    "  return theta_0 + theta_1 * x"
   ]
  },
  {
   "cell_type": "code",
   "execution_count": 9,
   "metadata": {
    "colab": {
     "base_uri": "https://localhost:8080/",
     "height": 283
    },
    "colab_type": "code",
    "id": "T06Zy36kZpE5",
    "outputId": "65fecea2-aea8-43c1-c499-e0f3bc813bf5"
   },
   "outputs": [
    {
     "data": {
      "image/png": "[encoded data removed]",
      "text/plain": [
       "<Figure size 432x288 with 1 Axes>"
      ]
     },
     "metadata": {
      "needs_background": "light"
     },
     "output_type": "display_data"
    }
   ],
   "source": [
    "# plot regression\n",
    "pedapatan_regression = regression(theta_0, theta_1, penjualan)\n",
    "plt.scatter(penjualan, pendapatan)\n",
    "plt.plot(penjualan, pedapatan_regression, c='r')\n",
    "plt.xlabel(\"Penjualan Pizza (1000 buah)\")\n",
    "plt.ylabel(\"Pendapatan rata-rata (1000$)\")\n",
    "plt.show()"
   ]
  },
  {
   "cell_type": "markdown",
   "metadata": {
    "colab_type": "text",
    "id": "ty4WPmx8aWGp"
   },
   "source": [
    "### Score\n",
    "\n",
    "$R^2$ *score* merupakan ukuran yang menyatakan seberapa baik prediksi regresi mendekati data nyata. Semakin dekat nilai *score* ke 1 menunjukkan semakin cocok hasil prediksi regresi dengan data nyata.\n",
    "\n",
    "\n",
    "> $R^2 = 1 - \\frac{SS_{res}}{SS_{tot}}$\n",
    "\n",
    "> $SS_{res} = \\sum{_{i}}{(y_i-\\hat{y_i})^2}$\n",
    "\n",
    "> $SS_{tot} = \\sum{_{i}}{(y_i-\\bar{y_i})^2}$"
   ]
  },
  {
   "cell_type": "code",
   "execution_count": 10,
   "metadata": {
    "colab": {
     "base_uri": "https://localhost:8080/",
     "height": 34
    },
    "colab_type": "code",
    "id": "_len8lP3b3eo",
    "outputId": "55ddd21a-fc09-4209-c3bc-c859a9a4ed43"
   },
   "outputs": [
    {
     "name": "stdout",
     "output_type": "stream",
     "text": [
      "Score regressi 0.9683201103380077\n"
     ]
    }
   ],
   "source": [
    "SST = sum((pendapatan - pendapatan.mean()) ** 2)\n",
    "SSR = sum((pendapatan - pedapatan_regression) ** 2)\n",
    "score = 1 - (SSR/SST)\n",
    "print(\"Score regressi\", score)"
   ]
  },
  {
   "cell_type": "code",
   "execution_count": 11,
   "metadata": {},
   "outputs": [],
   "source": [
    "# Menggunakan modul mlitera"
   ]
  },
  {
   "cell_type": "code",
   "execution_count": 27,
   "metadata": {},
   "outputs": [],
   "source": [
    "from mlitera.linreg import LSE"
   ]
  },
  {
   "cell_type": "code",
   "execution_count": 28,
   "metadata": {},
   "outputs": [
    {
     "name": "stdout",
     "output_type": "stream",
     "text": [
      "coefficient fo determination:  0.9683201103380077\n",
      "intercept:  -4.542660017760776\n",
      "gradient:  [0.3333561]\n"
     ]
    }
   ],
   "source": [
    "X = penjualan.values.reshape((-1,1))\n",
    "m = LSE().fit(X, pendapatan)\n",
    "\n",
    "print(\"coefficient fo determination: \", m.score(pendapatan, m.predict(X)))\n",
    "print(\"intercept: \", m.intercept_)\n",
    "print(\"gradient: \", m.coef_)"
   ]
  },
  {
   "cell_type": "code",
   "execution_count": 29,
   "metadata": {},
   "outputs": [
    {
     "data": {
      "text/plain": [
       "((8,), 8)"
      ]
     },
     "execution_count": 29,
     "metadata": {},
     "output_type": "execute_result"
    }
   ],
   "source": [
    "pendapatan.values.shape, len(X)"
   ]
  }
 ],
 "metadata": {
  "colab": {
   "collapsed_sections": [],
   "include_colab_link": true,
   "name": "Regresi-Linear.ipynb",
   "provenance": []
  },
  "kernelspec": {
   "display_name": "Python 3",
   "language": "python",
   "name": "python3"
  },
  "language_info": {
   "codemirror_mode": {
    "name": "ipython",
    "version": 3
   },
   "file_extension": ".py",
   "mimetype": "text/x-python",
   "name": "python",
   "nbconvert_exporter": "python",
   "pygments_lexer": "ipython3",
   "version": "3.6.8"
  }
 },
 "nbformat": 4,
 "nbformat_minor": 1
}
